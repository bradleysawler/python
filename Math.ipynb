{
 "cells": [
  {
   "cell_type": "code",
   "execution_count": 41,
   "metadata": {},
   "outputs": [],
   "source": [
    "import pandas as pd\n",
    "import numpy as np\n",
    "import itertools\n",
    "import functools as ft"
   ]
  },
  {
   "cell_type": "markdown",
   "metadata": {},
   "source": [
    "# Lowest Common Multiple (LCM)"
   ]
  },
  {
   "cell_type": "code",
   "execution_count": 241,
   "metadata": {},
   "outputs": [
    {
     "name": "stdout",
     "output_type": "stream",
     "text": [
      "x 40, i 0, v 40, remainder 0\n",
      "x 40, i 1, v 12, remainder 4\n",
      "x 40, i 2, v 20, remainder 4\n",
      "x 80, i 0, v 40, remainder 0\n",
      "x 80, i 1, v 12, remainder 8\n",
      "x 80, i 2, v 20, remainder 8\n",
      "x 120, i 0, v 40, remainder 0\n",
      "x 120, i 1, v 12, remainder 0\n",
      "x 120, i 2, v 20, remainder 0\n"
     ]
    },
    {
     "data": {
      "text/plain": [
       "120"
      ]
     },
     "metadata": {},
     "output_type": "display_data"
    },
    {
     "name": "stdout",
     "output_type": "stream",
     "text": [
      "using numpy.lcm = 120\n"
     ]
    }
   ],
   "source": [
    "def fn_lcm(nums):\n",
    "    \"\"\"Ruturns the lowest common multiple of a list of integers. \n",
    "\n",
    "    nums = list of numbers of any length of type interger in any order\n",
    "    >>> fn_lcm([40, 12, 20] = np.lcm.reduce([40, 12, 20]) = 120\n",
    "    \n",
    "    import functools as ft, import numpy as np\n",
    "    \n",
    "    \"\"\"\n",
    "    # Calculate the highest multiple as the product of the elements in the list.\n",
    "    highest_multiple = ft.reduce(lambda x, y: x*y, nums)\n",
    "    \n",
    "    # Loop through the list starting/stepping at/by the highest number to the highest multiple\n",
    "    for x in range(max(nums), highest_multiple + 1, max(nums)):\n",
    "        y =  0 # initialisation\n",
    "        \n",
    "        # Loop through the list positions and calculate the cummulative sum of the remainder\n",
    "        for i, v in enumerate(nums):            \n",
    "            remainder = x % nums[i]\n",
    "            y += remainder\n",
    "            \n",
    "            # comment out if you don't want to see the workout\n",
    "            print(f'x {x}, i {i}, v {v}, remainder {y}')\n",
    "\n",
    "        # When the remainder of all elements in the list are equal to zero, return LCM\n",
    "        if y == 0:\n",
    "            lcm = x\n",
    "            return lcm\n",
    "               \n",
    "nums = [40, 12, 20]\n",
    "display(fn_lcm(nums))\n",
    "print(f'using numpy.lcm = {np.lcm.reduce(nums)}')"
   ]
  },
  {
   "cell_type": "markdown",
   "metadata": {},
   "source": [
    "# Greatest Common Divisor (GCD/HCF)"
   ]
  },
  {
   "cell_type": "code",
   "execution_count": 244,
   "metadata": {},
   "outputs": [
    {
     "name": "stdout",
     "output_type": "stream",
     "text": [
      "i 0, v 40, x 1, remainder 0\n",
      "i 1, v 12, x 1, remainder 0\n",
      "i 2, v 20, x 1, remainder 0\n",
      "i 0, v 40, x 2, remainder 0\n",
      "i 1, v 12, x 2, remainder 0\n",
      "i 2, v 20, x 2, remainder 0\n",
      "i 0, v 40, x 3, remainder 1\n",
      "i 1, v 12, x 3, remainder 1\n",
      "i 2, v 20, x 3, remainder 3\n",
      "i 0, v 40, x 4, remainder 0\n",
      "i 1, v 12, x 4, remainder 0\n",
      "i 2, v 20, x 4, remainder 0\n",
      "i 0, v 40, x 5, remainder 0\n",
      "i 1, v 12, x 5, remainder 2\n",
      "i 2, v 20, x 5, remainder 2\n",
      "i 0, v 40, x 6, remainder 4\n",
      "i 1, v 12, x 6, remainder 4\n",
      "i 2, v 20, x 6, remainder 6\n",
      "i 0, v 40, x 7, remainder 5\n",
      "i 1, v 12, x 7, remainder 10\n",
      "i 2, v 20, x 7, remainder 16\n",
      "i 0, v 40, x 8, remainder 0\n",
      "i 1, v 12, x 8, remainder 4\n",
      "i 2, v 20, x 8, remainder 8\n",
      "i 0, v 40, x 9, remainder 4\n",
      "i 1, v 12, x 9, remainder 7\n",
      "i 2, v 20, x 9, remainder 9\n",
      "i 0, v 40, x 10, remainder 0\n",
      "i 1, v 12, x 10, remainder 2\n",
      "i 2, v 20, x 10, remainder 2\n",
      "i 0, v 40, x 11, remainder 7\n",
      "i 1, v 12, x 11, remainder 8\n",
      "i 2, v 20, x 11, remainder 17\n",
      "i 0, v 40, x 12, remainder 4\n",
      "i 1, v 12, x 12, remainder 4\n",
      "i 2, v 20, x 12, remainder 12\n"
     ]
    },
    {
     "data": {
      "text/plain": [
       "4"
      ]
     },
     "metadata": {},
     "output_type": "display_data"
    },
    {
     "name": "stdout",
     "output_type": "stream",
     "text": [
      "using numpy.lcm = 4\n"
     ]
    }
   ],
   "source": [
    "def fn_gcd(nums):\n",
    "    \"\"\"Returns the greatest common divisor (highest common factor) of a list of integers\n",
    "    nums = list of numbers of any length of type interger in any order\n",
    "    >>> fn_gcd([40, 12, 20] = np.gcd.reduce([40, 12, 20]) = 120\n",
    "    \n",
    "    import functools as ft, import numpy as np\n",
    "    \"\"\"\n",
    "    # Loop through factors starting from 1 until the smallest number in the list\n",
    "    for x in range(1, min(nums) + 1):\n",
    "        y =  0 # initialisation\n",
    "        \n",
    "        # Loop through the list positions and calculate the cummulative sum of the remainder\n",
    "        for i, v in enumerate(nums):\n",
    "            remainder = nums[i] % x\n",
    "            y += remainder\n",
    "            \n",
    "            # comment out if you don't want to see the workout\n",
    "            print(f'i {i}, v {v}, x {x}, remainder {y}') \n",
    "\n",
    "            # Check if last position of the number list has a cummulative remainder total of 0\n",
    "            # then keeps reassigning it to gcd while true which will provide the GCD/HCF at the end\n",
    "            if ((i == len(nums)-1) and (y == 0)):\n",
    "                gcd = x\n",
    "    return gcd\n",
    "\n",
    "\n",
    "nums = [40, 12, 20]\n",
    "display(fn_gcd(nums))\n",
    "print(f'using numpy.lcm = {np.gcd.reduce(nums)}')"
   ]
  },
  {
   "cell_type": "code",
   "execution_count": null,
   "metadata": {},
   "outputs": [],
   "source": []
  }
 ],
 "metadata": {
  "kernelspec": {
   "display_name": "Python 3",
   "language": "python",
   "name": "python3"
  },
  "language_info": {
   "codemirror_mode": {
    "name": "ipython",
    "version": 3
   },
   "file_extension": ".py",
   "mimetype": "text/x-python",
   "name": "python",
   "nbconvert_exporter": "python",
   "pygments_lexer": "ipython3",
   "version": "3.7.4"
  }
 },
 "nbformat": 4,
 "nbformat_minor": 4
}
